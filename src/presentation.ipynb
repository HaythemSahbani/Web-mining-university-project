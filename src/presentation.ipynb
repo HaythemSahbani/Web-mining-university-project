{
 "worksheets": [
  {
   "cells": [
    {
     "cell_type": "heading",
     "metadata": {},
     "level": 1,
     "source": [
      "Web Mining Project: Detecting Temporal Development of Topics associated with Politicans and their Polarity on Twitter"
     ]
    },
    {
     "cell_type": "heading",
     "metadata": {},
     "level": 2,
     "source": [
      "Project undertaken by\n"
     ]
    },
    {
     "cell_type": "markdown",
     "metadata": {},
     "source": [
      "Atef Belaaj"
     ]
    },
    {
     "cell_type": "markdown",
     "metadata": {},
     "source": [
      "SeifAllah kouki"
     ]
    },
    {
     "cell_type": "markdown",
     "metadata": {},
     "source": [
      "Haythem Sahbani"
     ]
    },
    {
     "cell_type": "heading",
     "metadata": {},
     "level": 3,
     "source": [
      "Outline"
     ]
    },
    {
     "cell_type": "markdown",
     "metadata": {},
     "source": [
      "Crawl Twitter\n",
      "\n",
      "Preprocessing the tweets for clustering\n",
      "\n",
      "Polarity Classification\n",
      "\n",
      "Topic classification\n",
      "\n",
      "Evaluation"
     ]
    },
    {
     "cell_type": "heading",
     "metadata": {},
     "level": 2,
     "source": [
      "Crawl Twitter"
     ]
    },
    {
     "cell_type": "markdown",
     "metadata": {},
     "source": [
      "Input: An english speaking politician "
     ]
    },
    {
     "cell_type": "code",
     "metadata": {},
     "outputs": [],
     "input": [
      "screen_name = \"BarackObama\"\n",
      "# \"SenJohnMcCain\""
     ],
     "language": "python",
     "prompt_number": 7
    },
    {
     "cell_type": "markdown",
     "metadata": {},
     "source": [
      "Output : Json frame that contains the tweet id, date of creation, polarity (to find), and the topic (to find)"
     ]
    },
    {
     "cell_type": "code",
     "metadata": {},
     "outputs": [
      {
       "output_type": "stream",
       "stream": "stdout",
       "text": [
        "number of tweets : 3238\n"
       ]
      }
     ],
     "input": [
      "from twitter_crawl import TwitterCrawl\n",
      "\n",
      "twt = TwitterCrawl()\n",
      "json_tweets = twt.get_feed(screen_name)\n",
      "print(\"number of tweets : %d\" % len(json_tweet))"
     ],
     "language": "python",
     "prompt_number": 8
    },
    {
     "cell_type": "markdown",
     "metadata": {},
     "source": [
      "We can save the Json frame in a Json file like follow:"
     ]
    },
    {
     "cell_type": "code",
     "metadata": {},
     "outputs": [],
     "input": [
      "file = screen_name + \"_tweets.json\"\n",
      "twt.save_tweets(file)"
     ],
     "language": "python",
     "prompt_number": 9
    },
    {
     "cell_type": "markdown",
     "metadata": {},
     "source": [
      "And then load it to avoid crawling the data from twitter each time."
     ]
    },
    {
     "cell_type": "code",
     "metadata": {},
     "outputs": [],
     "input": [
      "json_tweets = twt.load_tweets(file)"
     ],
     "language": "python"
    },
    {
     "cell_type": "heading",
     "metadata": {},
     "level": 2,
     "source": [
      "Preprocessing the tweets for clustering"
     ]
    },
    {
     "cell_type": "markdown",
     "metadata": {},
     "source": [
      "The tweets are processed like follow: \n",
      "\n",
      "Frist, expand the contractions: for example don't => do not\n",
      "\n",
      "Second, tokenize with nltk regxp tokenizer using special regular expression patterns that best fit the needs of the project. For example we removed retweet, url, and we maintained hashtags. \n",
      "\n",
      "Third, remove stop words: words like \"will\" are not relevent for topic classification"
     ]
    },
    {
     "cell_type": "code",
     "metadata": {},
     "outputs": [
      {
       "output_type": "stream",
       "stream": "stdout",
       "text": [
        "tweet before preprocessing: \"We have to pass a budget that gives middle-class families the security they need to get ahead in the new economy.\" President Obama\n",
        "tweet after preprocessing: pass budget middle-class families security ahead economy president obama"
       ]
      },
      {
       "output_type": "stream",
       "stream": "stdout",
       "text": [
        "\n"
       ]
      }
     ],
     "input": [
      "from Preprocess import Preprocess, TweetTokenizer\n",
      "tweet_text = twt.get_tweet_text(json_tweets)\n",
      "print \"tweet before preprocessing: \" + tweet_text[1]\n",
      "for tweet in tweet_text:\n",
      "    tweet_text[tweet_text.index(tweet)] = \" \".join(\n",
      "                                                Preprocess().remove_stopwords(\n",
      "                                                    TweetTokenizer().tokenize(\n",
      "                                                        Preprocess().expand_contraction(tweet))))\n",
      "\n",
      "print \"tweet after preprocessing: \" + tweet_text[1]"
     ],
     "language": "python",
     "prompt_number": 10
    },
    {
     "cell_type": "heading",
     "metadata": {},
     "level": 2,
     "source": [
      "Polarity classification"
     ]
    },
    {
     "cell_type": "markdown",
     "metadata": {},
     "source": [
      "In order to classify the extracted tweets according to their polarity, we built a naive bayesien classifier. As our main focus is political tweets, we will assume that our tweets words are spelled correctly. Therefore we decided to train our classifier with nltk movie reviews corpus."
     ]
    },
    {
     "cell_type": "heading",
     "metadata": {},
     "level": 3,
     "source": [
      "Feature extraction"
     ]
    },
    {
     "cell_type": "markdown",
     "metadata": {},
     "source": [
      "As a first step, we used a simplified bag of words model where every word is feature name with a value of True. Here's the feature extraction method:"
     ]
    },
    {
     "cell_type": "code",
     "metadata": {},
     "outputs": [],
     "input": [
      "def bag_of_word_feats(words):\n",
      "    return dict([(word, True) for word in words])"
     ],
     "language": "python",
     "prompt_number": 37
    },
    {
     "cell_type": "heading",
     "metadata": {},
     "level": 3,
     "source": [
      "Training and Testing sets"
     ]
    },
    {
     "cell_type": "markdown",
     "metadata": {},
     "source": [
      "The movies reviews corpus contains 2000 reviews: half positive and half negative. To make sure that we can evaluate our classifier properly, we must keep a part of the data unseen by the training classifier. Therfore we have these two sets:"
     ]
    },
    {
     "cell_type": "code",
     "metadata": {},
     "outputs": [
      {
       "output_type": "stream",
       "stream": "stdout",
       "text": [
        "train on 1500 instances, test.ipynb on 500 instances\n"
       ]
      }
     ],
     "input": [
      "import collections\n",
      "import nltk.metrics\n",
      "import nltk.classify.util\n",
      "from nltk.classify import NaiveBayesClassifier\n",
      "from nltk.corpus import movie_reviews\n",
      "neg_ids = movie_reviews.fileids('neg')\n",
      "pos_ids = movie_reviews.fileids('pos')\n",
      "neg_feats = [(bag_of_word_feats(movie_reviews.words(fileids=[f])), 'neg') for f in neg_ids]\n",
      "pos_feats = [(bag_of_word_feats(movie_reviews.words(fileids=[f])), 'pos') for f in pos_ids]\n",
      "\n",
      "neg_limit = len(neg_feats)*3/4\n",
      "pos_limit = len(pos_feats)*3/4\n",
      "\n",
      "\n",
      "trainfeats = neg_feats[:neg_limit] + pos_feats[:pos_limit]\n",
      "testfeats = neg_feats[neg_limit:] + pos_feats[pos_limit:]\n",
      "print 'train on %d instances, test.ipynb on %d instances' % (len(trainfeats), len(testfeats))"
     ],
     "language": "python",
     "prompt_number": 40
    },
    {
     "cell_type": "heading",
     "metadata": {},
     "level": 3,
     "source": [
      "Training the classifier"
     ]
    },
    {
     "cell_type": "markdown",
     "metadata": {},
     "source": [
      "At this point, we have a training set, so all we need to do is instantiate a classifier and classify test tweets."
     ]
    },
    {
     "cell_type": "code",
     "metadata": {},
     "outputs": [
      {
       "output_type": "stream",
       "stream": "stdout",
       "text": [
        "accuracy: "
       ]
      },
      {
       "output_type": "stream",
       "stream": "stdout",
       "text": [
        "0.728\n"
       ]
      }
     ],
     "input": [
      "classifier = NaiveBayesClassifier.train(trainfeats)\n",
      "print 'accuracy:', nltk.classify.util.accuracy(classifier, testfeats)"
     ],
     "language": "python",
     "prompt_number": 41
    },
    {
     "cell_type": "heading",
     "metadata": {},
     "level": 3,
     "source": [
      "Evaluation"
     ]
    },
    {
     "cell_type": "markdown",
     "metadata": {},
     "source": [
      "Accuracy is not the only way to evaluate a classifier. For binary classifiers, there are two other metrics that can give us more information about the performence: they are called precision and recall. Besides from these two mertrics, there is an other measure that combines the two metrics: which is the weighted harmonic mean of precision and recall.\n",
      "We used nltk.metrics class:"
     ]
    },
    {
     "cell_type": "code",
     "metadata": {},
     "outputs": [
      {
       "output_type": "stream",
       "stream": "stdout",
       "text": [
        "pos precision: 0.651595744681\n",
        "pos recall: 0.98\n",
        "pos F-measure: 0.782747603834\n",
        "neg precision: 0.959677419355\n",
        "neg recall: 0.476\n",
        "neg F-measure: 0.636363636364\n"
       ]
      }
     ],
     "input": [
      "refsets = collections.defaultdict(set)\n",
      "testsets = collections.defaultdict(set)\n",
      "for i, (feats, label) in enumerate(testfeats):\n",
      "    refsets[label].add(i)\n",
      "    observed = classifier.classify(feats)\n",
      "    testsets[observed].add(i)\n",
      "\n",
      "print 'pos precision:', nltk.metrics.precision(refsets['pos'], testsets['pos'])\n",
      "print 'pos recall:', nltk.metrics.recall(refsets['pos'], testsets['pos'])\n",
      "print 'pos F-measure:', nltk.metrics.f_measure(refsets['pos'], testsets['pos'])\n",
      "print 'neg precision:', nltk.metrics.precision(refsets['neg'], testsets['neg'])\n",
      "print 'neg recall:', nltk.metrics.recall(refsets['neg'], testsets['neg'])\n",
      "print 'neg F-measure:', nltk.metrics.f_measure(refsets['neg'], testsets['neg'])"
     ],
     "language": "python",
     "prompt_number": 42
    },
    {
     "cell_type": "heading",
     "metadata": {},
     "level": 3,
     "source": [
      "Stop Words Features"
     ]
    },
    {
     "cell_type": "markdown",
     "metadata": {},
     "source": [
      "We assumed that our dataset contains a lot of useless words. These words are actually called stop words. We used the nltk stop word corpus, to filter the dataset with this modified feature extractor:"
     ]
    },
    {
     "cell_type": "code",
     "metadata": {},
     "outputs": [],
     "input": [
      "from nltk.corpus import stopwords\n",
      "stopset = set(stopwords.words('english'))\n",
      "\n",
      "def stopword_filtered_word_feats(words):\n",
      "    return dict([(word, True) for word in words if word not in stopset])"
     ],
     "language": "python"
    },
    {
     "cell_type": "code",
     "metadata": {},
     "outputs": [
      {
       "output_type": "stream",
       "stream": "stdout",
       "text": [
        "train on 1500 instances, test.ipynb on 500 instances\n",
        "accuracy:"
       ]
      },
      {
       "output_type": "stream",
       "stream": "stdout",
       "text": [
        " 0.726\n",
        "Most Informative Features\n",
        "             magnificent = True              pos : neg    =     15.0 : 1.0"
       ]
      },
      {
       "output_type": "stream",
       "stream": "stdout",
       "text": [
        "\n",
        "             outstanding = True              pos : neg    =     13.6 : 1.0\n",
        "               insulting = True              neg : pos    =     13.0 : 1.0\n",
        "              vulnerable = True              pos : neg    =     12.3 : 1.0\n",
        "               ludicrous = True              neg : pos    =     11.8 : 1.0\n",
        "                  avoids = True              pos : neg    =     11.7 : 1.0\n",
        "             uninvolving = True              neg : pos    =     11.7 : 1.0\n",
        "              astounding = True              pos : neg    =     10.3 : 1.0\n",
        "             fascination = True              pos : neg    =     10.3 : 1.0\n",
        "                 idiotic = True              neg : pos    =      9.8 : 1.0\n",
        "pos precision:"
       ]
      },
      {
       "output_type": "stream",
       "stream": "stdout",
       "text": [
        " 0.649867374005\n",
        "pos recall: 0.98\n",
        "pos F-measure: 0.781499202552\n",
        "neg precision: 0.959349593496\n",
        "neg recall: 0.472\n",
        "neg F-measure: 0.632707774799\n"
       ]
      }
     ],
     "input": [
      "import collections\n",
      "import nltk.metrics\n",
      "import nltk.classify.util\n",
      "from nltk.classify import NaiveBayesClassifier\n",
      "from nltk.corpus import movie_reviews\n",
      "neg_ids = movie_reviews.fileids('neg')\n",
      "pos_ids = movie_reviews.fileids('pos')\n",
      "\n",
      "\n",
      "\n",
      "from nltk.corpus import stopwords\n",
      "stopset = set(stopwords.words('english'))\n",
      "\n",
      "def stopword_filtered_word_feats(words):\n",
      "    return dict([(word, True) for word in words if word not in stopset])\n",
      "\n",
      "\n",
      "\n",
      "neg_feats = [(stopword_filtered_word_feats(movie_reviews.words(fileids=[f])), 'neg') for f in neg_ids]\n",
      "pos_feats = [(stopword_filtered_word_feats(movie_reviews.words(fileids=[f])), 'pos') for f in pos_ids]\n",
      "\n",
      "\n",
      "neg_limit = len(neg_feats)*3/4\n",
      "pos_limit = len(pos_feats)*3/4\n",
      "\n",
      "\n",
      "trainfeats = neg_feats[:neg_limit] + pos_feats[:pos_limit]\n",
      "testfeats = neg_feats[neg_limit:] + pos_feats[pos_limit:]\n",
      "print 'train on %d instances, test.ipynb on %d instances' % (len(trainfeats), len(testfeats))\n",
      "\n",
      "\n",
      "classifier = NaiveBayesClassifier.train(trainfeats)\n",
      "print 'accuracy:', nltk.classify.util.accuracy(classifier, testfeats)\n",
      "classifier.show_most_informative_features()\n",
      "\n",
      "refsets = collections.defaultdict(set)\n",
      "testsets = collections.defaultdict(set)\n",
      "\n",
      "for i, (feats, label) in enumerate(testfeats):\n",
      "    refsets[label].add(i)\n",
      "    observed = classifier.classify(feats)\n",
      "    testsets[observed].add(i)\n",
      "\n",
      "print 'pos precision:', nltk.metrics.precision(refsets['pos'], testsets['pos'])\n",
      "print 'pos recall:', nltk.metrics.recall(refsets['pos'], testsets['pos'])\n",
      "print 'pos F-measure:', nltk.metrics.f_measure(refsets['pos'], testsets['pos'])\n",
      "print 'neg precision:', nltk.metrics.precision(refsets['neg'], testsets['neg'])\n",
      "print 'neg recall:', nltk.metrics.recall(refsets['neg'], testsets['neg'])\n",
      "print 'neg F-measure:', nltk.metrics.f_measure(refsets['neg'], testsets['neg'])"
     ],
     "language": "python",
     "prompt_number": 43
    },
    {
     "cell_type": "markdown",
     "metadata": {},
     "source": [
      "We conclude that stop words add information to the polarity analysis"
     ]
    },
    {
     "cell_type": "heading",
     "metadata": {},
     "level": 3,
     "source": [
      "Bigram"
     ]
    },
    {
     "cell_type": "markdown",
     "metadata": {},
     "source": [
      "we noticed that negation like \"not bad\" , which is a positive expression that the bag of words model could interpret as negative since it sees \"bad\" as a separate word.\n",
      "\n",
      "Therefore we used nltk.collocations.BigramCollocationFinder along with nltk.metrics.BigramAssocMeasures to calculate bigram frequencies and individual words frequencies and determine whether the bigram occurs about as frequently as each individual word:"
     ]
    },
    {
     "cell_type": "code",
     "metadata": {},
     "outputs": [],
     "input": [
      "import itertools\n",
      "from nltk.collocations import BigramCollocationFinder\n",
      "from nltk.metrics import BigramAssocMeasures\n",
      "\n",
      "def bigram_word_feats(words, score_fn=BigramAssocMeasures.chi_sq, n=200):\n",
      "    bigram_finder = BigramCollocationFinder.from_words(words)\n",
      "    bigrams = bigram_finder.nbest(score_fn, n)\n",
      "    return dict([(ngram, True) for ngram in itertools.chain(words, bigrams)])"
     ],
     "language": "python",
     "prompt_number": 36
    },
    {
     "cell_type": "heading",
     "metadata": {},
     "level": 3,
     "source": [
      "Evaluate:"
     ]
    },
    {
     "cell_type": "code",
     "metadata": {},
     "outputs": [
      {
       "output_type": "stream",
       "stream": "stdout",
       "text": [
        "accuracy: "
       ]
      },
      {
       "output_type": "stream",
       "stream": "stdout",
       "text": [
        "0.816\n",
        "pos precision:"
       ]
      },
      {
       "output_type": "stream",
       "stream": "stdout",
       "text": [
        " 0.753205128205\n",
        "pos recall: 0.94\n",
        "pos F-measure: 0.836298932384\n",
        "neg precision: 0.920212765957\n",
        "neg recall: 0.692\n",
        "neg F-measure: 0.7899543379\n"
       ]
      }
     ],
     "input": [
      "import collections\n",
      "import nltk.metrics\n",
      "import nltk.classify.util\n",
      "from nltk.classify import NaiveBayesClassifier\n",
      "from nltk.corpus import movie_reviews\n",
      "neg_ids = movie_reviews.fileids('neg')\n",
      "pos_ids = movie_reviews.fileids('pos')\n",
      "\n",
      "\n",
      "\n",
      "\n",
      "import itertools\n",
      "from nltk.collocations import BigramCollocationFinder\n",
      "from nltk.metrics import BigramAssocMeasures\n",
      "\n",
      "def bigram_word_feats(words, score_fn=BigramAssocMeasures.chi_sq, n=200):\n",
      "    bigram_finder = BigramCollocationFinder.from_words(words)\n",
      "    bigrams = bigram_finder.nbest(score_fn, n)\n",
      "    return dict([(ngram, True) for ngram in itertools.chain(words, bigrams)])\n",
      "neg_feats = [(bigram_word_feats(movie_reviews.words(fileids=[f])), 'neg') for f in neg_ids]\n",
      "pos_feats = [(bigram_word_feats(movie_reviews.words(fileids=[f])), 'pos') for f in pos_ids]\n",
      "\n",
      "neg_limit = len(neg_feats)*3/4\n",
      "pos_limit = len(pos_feats)*3/4\n",
      "\n",
      "\n",
      "trainfeats = neg_feats[:neg_limit] + pos_feats[:pos_limit]\n",
      "testfeats = neg_feats[neg_limit:] + pos_feats[pos_limit:]\n",
      "\n",
      "\n",
      "classifier = NaiveBayesClassifier.train(trainfeats)\n",
      "\n",
      "print 'accuracy:', nltk.classify.util.accuracy(classifier, testfeats)\n",
      "\n",
      "\n",
      "refsets = collections.defaultdict(set)\n",
      "testsets = collections.defaultdict(set)\n",
      "\n",
      "for i, (feats, label) in enumerate(testfeats):\n",
      "    refsets[label].add(i)\n",
      "    observed = classifier.classify(feats)\n",
      "    testsets[observed].add(i)\n",
      "\n",
      "print 'pos precision:', nltk.metrics.precision(refsets['pos'], testsets['pos'])\n",
      "print 'pos recall:', nltk.metrics.recall(refsets['pos'], testsets['pos'])\n",
      "print 'pos F-measure:', nltk.metrics.f_measure(refsets['pos'], testsets['pos'])\n",
      "print 'neg precision:', nltk.metrics.precision(refsets['neg'], testsets['neg'])\n",
      "print 'neg recall:', nltk.metrics.recall(refsets['neg'], testsets['neg'])\n",
      "print 'neg F-measure:', nltk.metrics.f_measure(refsets['neg'], testsets['neg'])"
     ],
     "language": "python",
     "prompt_number": 46
    },
    {
     "cell_type": "markdown",
     "metadata": {},
     "source": [
      "The results confirm our assumption about the negative expressions, as bigram gives better precession, recall and accuracy"
     ]
    },
    {
     "cell_type": "markdown",
     "metadata": {},
     "source": [
      "To update our tweets polarity, we create the class Polarity_classifier from where we can call one of the previous three classifier.\n",
      "This class assign polarity to tweets by refering to the pickle files of each trained classifier.\n"
     ]
    },
    {
     "cell_type": "code",
     "metadata": {},
     "outputs": [],
     "input": [
      "from Polarity_classifier import Polarity_classifier\n",
      "\n",
      "pc = Polarity_classifier()\n",
      "\n",
      "#Choose one of the three polarity classifiers\n",
      "pc.set_polarity_bag_classifier(json_tweets)\n",
      "#pc.set_polarity_bigram_classifier(json_tweets)\n",
      "#pc.set_polarity_stop_classifier(json_tweets)"
     ],
     "language": "python",
     "prompt_number": 11
    },
    {
     "cell_type": "heading",
     "metadata": {},
     "level": 1,
     "source": [
      "Topic Classificaiton"
     ]
    },
    {
     "cell_type": "markdown",
     "metadata": {},
     "source": [
      "We tried two classification methods:\n",
      " \n",
      "    Classifing tweets using a clustering algorithm\n",
      "    \n",
      "    Classifing tweets using htags"
     ]
    },
    {
     "cell_type": "heading",
     "metadata": {},
     "level": 3,
     "source": [
      "Clustering using k-means"
     ]
    },
    {
     "cell_type": "markdown",
     "metadata": {},
     "source": [
      "This section contains technics that are applied to extract features and cluster tweets into topics.\n",
      "\n",
      "Most of used algorithms were already implemented in the Scikit-learn library which has significantly facilitate the task."
     ]
    },
    {
     "cell_type": "heading",
     "metadata": {},
     "level": 4,
     "source": [
      "Feature extraction method Tf-idf"
     ]
    },
    {
     "cell_type": "markdown",
     "metadata": {},
     "source": [
      "In order to compute the preprocessed data, it was reduced to a set of selected words to gain in the computational memory since the dataset size was too big.\n",
      "\n",
      "Starting with a bag-of-word approach which aims to represent a tweet as a sparse vector of occurrence counts of words, a set of most significant words was chosen in a way to describe the whole data according to the made assumption \"the 5% most frequent words are relevant enough to present topics discussed in the dataset of tweets\".\n",
      "\n",
      "In a next step, the set of relevant words was weighted with the numerical statistic technic term frequency-inverse document frequency (tf-idf) which assign to each word in the set a value that reflect its importance to a tweet in the corpus.\n",
      "\n",
      "The weighting of a word is a product of the frequency of a term in a tweet tf(t,d) and the inverse document frequency idf(t, D) such that:\n",
      " $$\\mathrm{idf}(t, D) =  \\log \\frac{N}{|\\{d \\in D: t \\in d\\}|}$$\n",
      "With N is the total number of tweets in the corpus.\n",
      "\n",
      " $|\\{d \\in D: t \\in d\\}|$ : number of tweets where the term t appears.\n",
      "\n",
      "The idf is a weighting value of the term importance by indicating if the term is common or rare in the corpus and it tend to weigh down very common words like ?the?, ?is? and ?a? which are frequent words but have little importance.\n",
      "\n",
      "Thus, the tfidf value tend to assign a high value for frequent words in a group of tweets and low value for frequent and rare words in the whole corpus which will be significantly helpful in the clustering process.\n",
      "\n",
      "The number of features was multiplied by the number of n-grams because the employment of n-grams leads to have usually same words that repeated as single term and in tuple so the number of significant word was remarkably decreased. \n",
      "\n",
      "The parameters max_df and min_df indicate respectively the max percentage of documents and the minimum number of documents where a term occurs. In our case, the terms that appears in less than two document and more than 95% of documents are ignored which expand the number of words taken in consideration"
     ]
    },
    {
     "cell_type": "code",
     "metadata": {},
     "outputs": [],
     "input": [
      "tfidf_vect= TfidfVectorizer(max_df=0.95, max_features=self.ngram*self.n_features,\n",
      "                                     min_df=2, stop_words='english', ngram_range=(1, self.ngram))"
     ],
     "language": "python"
    },
    {
     "cell_type": "heading",
     "metadata": {},
     "level": 4,
     "source": [
      "Gap Statistic"
     ]
    },
    {
     "cell_type": "markdown",
     "metadata": {},
     "source": [
      "In order to apply the clustering algorithm, we need to know the number k of clusters which is unknown in our project.\n",
      "\n",
      "In the literature, few numbers of heuristic proposed to solve the problem of detecting k in k-means.\n",
      "However, Gap Statistic was chosen because it has shown a better performances than other methods.\n",
      "\n",
      "The Gap statistic is a numerical statistic method that, increasing the number of k in k-means algorithm, select the first number of clusters such that adding another does not give much better modeling of the data.\n",
      "\n",
      "To compute this gap, the implemented algorithm compare the change in within cluster dispersion with that expected under an appropriate reference null dispersion, then, it select the first k that verify:\n",
      "$$\\mathrm{Gap}(k) \\geq \\mathrm{Gap}(k+1) - s_{k+1}$$\n",
      "\n",
      "With $s_{k+1}$ is the standard deviation of the reference dispersion.\n",
      "\n",
      "The reference null dispersion is generating by sample uniformly from a rectangle formed from the original dataset?s principal components.\n"
     ]
    },
    {
     "cell_type": "code",
     "metadata": {},
     "outputs": [],
     "input": [
      "%matplotlib inline"
     ],
     "language": "python",
     "prompt_number": 12
    },
    {
     "cell_type": "code",
     "metadata": {},
     "outputs": [
      {
       "output_type": "display_data",
       "png": "[encoded data removed]",
       "text": [
        "<matplotlib.figure.Figure at 0xd8a42d0>"
       ],
       "metadata": {}
      },
      {
       "output_type": "stream",
       "stream": "stdout",
       "text": [
        "best k found by gap statistic =3\n"
       ]
      }
     ],
     "input": [
      "from Clustering import Clustering\n",
      "\n",
      "clr = Clustering()\n",
      "\n",
      "best_k = clr.gap_statistic(tweet_text, kmin=2, kmax=10)"
     ],
     "language": "python",
     "prompt_number": 19
    },
    {
     "cell_type": "heading",
     "metadata": {},
     "level": 4,
     "source": [
      "K-means clustering"
     ]
    },
    {
     "cell_type": "markdown",
     "metadata": {},
     "source": [
      "the calculated weighted matrix from TfidfVectorizer serve the k-means algorithm to cluster the data points into k topics.\n",
      "\n",
      "K-means was launched with k-means++ option to find in an optimal way the centroids of clusters."
     ]
    },
    {
     "cell_type": "code",
     "metadata": {},
     "outputs": [
      {
       "output_type": "stream",
       "stream": "stdout",
       "text": [
        "#####################   Clustering with best matching k=3  ####################\n",
        "Top terms per cluster:"
       ]
      },
      {
       "output_type": "stream",
       "stream": "stdout",
       "text": [
        "\n",
        " Cluster 1: health, care, getcovered, time, insurance, \n",
        "\n",
        " Cluster 2: president, obama, watch, america, opportunityforall, \n",
        "\n",
        " Cluster 3: ofa, immigration, reform, actonreform, volunteers, \n",
        "\n"
       ]
      },
      {
       "output_type": "display_data",
       "png": "[encoded data removed]",
       "text": [
        "<matplotlib.figure.Figure at 0x62a4a50>"
       ],
       "metadata": {}
      }
     ],
     "input": [
      "clr.best_kmeans(best_k, tweet_text)"
     ],
     "language": "python",
     "prompt_number": 22
    },
    {
     "cell_type": "markdown",
     "metadata": {},
     "source": [
      "Draw clusters and centroids (taken from the scikit-learn tutorial)"
     ]
    },
    {
     "cell_type": "heading",
     "metadata": {},
     "level": 3,
     "source": [
      "Evaluation"
     ]
    },
    {
     "cell_type": "markdown",
     "metadata": {},
     "source": [
      "Gap statistic is a numerical statistic method that make many estimations and approximative measures which make it very inprecise and it shows ,when executed several times, a variant number of estimated k for the same data.\n",
      "\n",
      "K-means  algorithm prefer clusters of approximately similar size, as they will always assign an object to the nearest centroid, which lead to incorrect border in between clusters.\n",
      "\n",
      "For big or small cluster number, the k-means clusters show similarity between different clusters and heterogeneities within the same cluster, which reflect the importance of detecting a good predicted number of clusters.\n",
      "\n",
      "But even with a good number of clusters, the implemented clustering algorithm has a good results regarding the big topics but it show a weakness to extract topic with few numbers of tweets.\n"
     ]
    },
    {
     "cell_type": "code",
     "metadata": {},
     "outputs": [
      {
       "output_type": "display_data",
       "png": "[encoded data removed]",
       "text": [
        "<matplotlib.figure.Figure at 0x60f2450>"
       ],
       "metadata": {}
      },
      {
       "output_type": "display_data",
       "png": "[encoded data removed]",
       "text": [
        "<matplotlib.figure.Figure at 0x6001e90>"
       ],
       "metadata": {}
      }
     ],
     "input": [
      "from plot import present_all_data\n",
      "clr.set_tweet_topic(json_tweets)\n",
      "present_all_data(best_k, json_tweets)"
     ],
     "language": "python",
     "prompt_number": 25
    },
    {
     "cell_type": "heading",
     "metadata": {},
     "level": 3,
     "source": [
      "Clustering using htags: (hashtag  = topic)"
     ]
    },
    {
     "cell_type": "code",
     "metadata": {},
     "outputs": [
      {
       "output_type": "stream",
       "stream": "stdout",
       "text": [
        "('Most frequent tweets:', [u'#RaiseTheWage', u'#ActOnClimate', u'#OpportunityForAll', u'#SOTU', u'#GetCovered'])\n"
       ]
      },
      {
       "output_type": "display_data",
       "png": "[encoded data removed]",
       "text": [
        "<matplotlib.figure.Figure at 0x5daa7f0>"
       ],
       "metadata": {}
      }
     ],
     "input": [
      "from hashtag_classification import HtagClassifier, plot\n",
      "plot(json_tweets)"
     ],
     "language": "python",
     "prompt_number": 26
    },
    {
     "cell_type": "code",
     "metadata": {},
     "outputs": [
      {
       "output_type": "stream",
       "stream": "stdout",
       "text": [
        "('Number of different htags', 430)\n",
        "('Number of tweets with no htags: ', 1256)\n"
       ]
      }
     ],
     "input": [
      "from hashtag_classification import HtagClassifier\n",
      "dic = HtagClassifier().htag_classifier(json_tweets)\n",
      "print(\"Number of different htags\", len(dic.keys()))\n",
      "print(\"Number of tweets with no htags: \", len(dic[\"no_htags_tweet\"]))"
     ],
     "language": "python",
     "prompt_number": 27
    },
    {
     "cell_type": "markdown",
     "metadata": {},
     "source": [
      "Almost 30% of tweets are without htags so they're not classified\n",
      "\n",
      "The 5 most used htags are present in over than 100 tweets\n",
      "\n",
      "htags like #house and #houses are taken as seperate topics but they are pretty much the same\n",
      "\n",
      "=> Stem the htags can ged rid of this"
     ]
    },
    {
     "cell_type": "heading",
     "metadata": {},
     "level": 1,
     "source": [
      "Over all Evaluation"
     ]
    },
    {
     "cell_type": "markdown",
     "metadata": {},
     "source": [
      "The Clustering algorithm is maid to work with a big data set (more than 1000 tweets).\n",
      "The classifier doesn't classify little topics\n",
      "With 3000 tweets we crawl more than one year of twitter activity. The Classifie shows at most 10 topics.\n",
      "These are the most used one\n",
      "\n",
      "the Clustering we implemented works better on big data sets. \n",
      "The +: Can enhance the accuracy with feature engineering.\n",
      "The -: Takes too long to proceed\n",
      "\n",
      "The Hashtag classifier can work on small data set.\n",
      "The +: No learning time, no preprocessing of the tweets.\n",
      "The -: About 30% of the tweets doesn't contain any htag\n",
      "\n",
      "The algorithm can be improved by merging the Clustering and the htag classifiers\n",
      "\n",
      "Also using unsupervised learning for topic classification scales well in time. Because the topics are dynamic. Instead of supervised learning which should have more problem due to it's need to labels"
     ]
    }
   ]
  }
 ],
 "cells": [],
 "metadata": {
  "signature": "sha256:28fb075818cd06159d8d26ecb36172c42ac2097a11e5e62284c340ed30cc495f"
 },
 "nbformat": 3,
 "nbformat_minor": 0
}
